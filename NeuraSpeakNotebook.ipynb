{
 "cells": [
  {
   "cell_type": "markdown",
   "metadata": {},
   "source": [
    "# librarys"
   ]
  },
  {
   "cell_type": "code",
   "execution_count": 1,
   "metadata": {},
   "outputs": [],
   "source": [
    "import nltk\n",
    "from nltk.tokenize import word_tokenize\n",
    "from nltk.parse import CoreNLPParser\n",
    "from nltk.corpus import wordnet\n",
    "import speech_recognition as sr\n",
    "import numpy as np\n",
    "import language_tool_python\n",
    "import random"
   ]
  },
  {
   "cell_type": "code",
   "execution_count": 3,
   "metadata": {},
   "outputs": [
    {
     "name": "stderr",
     "output_type": "stream",
     "text": [
      "[nltk_data] Downloading package punkt to\n",
      "[nltk_data]     C:\\Users\\Chris\\AppData\\Roaming\\nltk_data...\n",
      "[nltk_data]   Package punkt is already up-to-date!\n",
      "[nltk_data] Downloading package averaged_perceptron_tagger to\n",
      "[nltk_data]     C:\\Users\\Chris\\AppData\\Roaming\\nltk_data...\n",
      "[nltk_data]   Package averaged_perceptron_tagger is already up-to-\n",
      "[nltk_data]       date!\n",
      "[nltk_data] Downloading package wordnet to\n",
      "[nltk_data]     C:\\Users\\Chris\\AppData\\Roaming\\nltk_data...\n",
      "[nltk_data]   Package wordnet is already up-to-date!\n",
      "[nltk_data] Downloading package omw-1.4 to\n",
      "[nltk_data]     C:\\Users\\Chris\\AppData\\Roaming\\nltk_data...\n",
      "[nltk_data]   Package omw-1.4 is already up-to-date!\n"
     ]
    },
    {
     "data": {
      "text/plain": [
       "True"
      ]
     },
     "execution_count": 3,
     "metadata": {},
     "output_type": "execute_result"
    }
   ],
   "source": [
    "nltk.download(\"punkt\")\n",
    "nltk.download(\"averaged_perceptron_tagger\")\n",
    "nltk.download('wordnet')\n",
    "nltk.download('omw-1.4')"
   ]
  },
  {
   "cell_type": "markdown",
   "metadata": {},
   "source": [
    "# identify and Recognize Errors"
   ]
  },
  {
   "cell_type": "code",
   "execution_count": null,
   "metadata": {},
   "outputs": [],
   "source": [
    "#pip install language_tool_python\n"
   ]
  },
  {
   "cell_type": "code",
   "execution_count": 2,
   "metadata": {},
   "outputs": [],
   "source": [
    "r = sr.Recognizer()\n",
    "def recognize_speech():\n",
    "    with sr.Microphone() as source:\n",
    "        print(\"Speak now...\")\n",
    "        audio = r.listen(source)\n",
    "        try:\n",
    "            text = r.recognize_google(audio)\n",
    "            print(\"You said: \" + text)\n",
    "            return text\n",
    "        except sr.UnknownValueError:\n",
    "            print(\"Sorry, I could not understand what you said.\")\n",
    "            return \"\"\n",
    "        except sr.RequestError as e:\n",
    "            print(\"Could not request results from Speech Recognition service; {0}\".format(e))\n",
    "            return \"\"\n"
   ]
  },
  {
   "cell_type": "code",
   "execution_count": 3,
   "metadata": {},
   "outputs": [],
   "source": [
    "def text_corrector(text):\n",
    "    tool = language_tool_python.LanguageTool('en-US')\n",
    "   \n",
    "    matches = tool.check(text)\n",
    "    len(matches)\n",
    "    for i in matches:\n",
    "        print(i)\n",
    "    corrected_text = tool.correct(text)\n",
    "    return corrected_text"
   ]
  },
  {
   "cell_type": "markdown",
   "metadata": {},
   "source": [
    "# Providing vocabulary practice:"
   ]
  },
  {
   "cell_type": "code",
   "execution_count": 6,
   "metadata": {},
   "outputs": [],
   "source": [
    "def practice_vocabulary_quiz():\n",
    "    while True:\n",
    "        words = []\n",
    "        definitions = []\n",
    "\n",
    "        for synset in wordnet.all_synsets('v'):\n",
    "            words.append(synset.name().split(\".\")[0])\n",
    "            definitions.append(synset.definition())\n",
    "                \n",
    "        quiz_words = random.sample(words, k=4)\n",
    "        correct_word = random.choice(quiz_words)\n",
    "        print(\"==========================================================\")\n",
    "        print(\"What is the definition of the following word?\")\n",
    "        print(correct_word)\n",
    "        \n",
    "        for i in range(len(quiz_words)):\n",
    "            print(f\"{i + 1}. {definitions[words.index(quiz_words[i])]}\")\n",
    "            \n",
    "        answer = input(\"Enter the correct option number: \")\n",
    "        \n",
    "        if not answer.isdigit() or int(answer) not in range(1, 5):\n",
    "            print(\"==========================================================\")\n",
    "            print(\"Invalid response. Please enter a valid number between 1 and 4.\")\n",
    "            continue\n",
    "\n",
    "        if int(answer) == quiz_words.index(correct_word) + 1:\n",
    "            print(\"==========================================================\")\n",
    "            print(\"Congratulations! Your answer is correct.\")\n",
    "        else:\n",
    "            print(f\"Sorry, your answer is incorrect. The correct answer is {quiz_words.index(correct_word) + 1}.\")\n",
    "\n",
    "        play_again = input(\"Do you want to practice again? (y/n): \").lower()\n",
    "        if play_again != 'y':\n",
    "            break\n",
    "\n"
   ]
  },
  {
   "cell_type": "markdown",
   "metadata": {},
   "source": [
    "# QuizOption"
   ]
  },
  {
   "cell_type": "code",
   "execution_count": 7,
   "metadata": {},
   "outputs": [],
   "source": [
    "def generate_vocabulary_quiz(num_questions):\n",
    "    words = []\n",
    "    definitions = []\n",
    "    score = 0\n",
    "\n",
    "    for synset in wordnet.all_synsets('n'):\n",
    "        if synset.pos() == \"n\":\n",
    "            words.append(synset.name().split(\".\")[0])\n",
    "            definitions.append(synset.definition())\n",
    "\n",
    "    for i in range(num_questions):\n",
    "        quiz_words = np.random.choice(words, size=4, replace=False)\n",
    "        correct_word = np.random.choice(quiz_words)\n",
    "\n",
    "        print(f\"\\nQuestion {i + 1}: What is the definition of the following word?\")\n",
    "        print(correct_word)\n",
    "\n",
    "        for j in range(len(quiz_words)):\n",
    "            print(f\"{j + 1}. {definitions[words.index(quiz_words[j])]}\")\n",
    "\n",
    "        answer = int(input(\"Enter the correct option number: \"))\n",
    "\n",
    "        if answer == np.where(quiz_words == correct_word)[0][0] + 1:\n",
    "            print(\"Congratulations! Your answer is correct.\")\n",
    "            score += 1\n",
    "            print()\n",
    "        else:\n",
    "            print(f\"Sorry, your answer is incorrect. The correct answer is {np.where(quiz_words == correct_word)[0][0] + 1}.\")\n",
    "\n",
    "    print(f\"\\nQuiz complete! Your score is: {score}/{num_questions}\")"
   ]
  },
  {
   "cell_type": "markdown",
   "metadata": {},
   "source": [
    "# Start voice assistant menu"
   ]
  },
  {
   "cell_type": "code",
   "execution_count": 8,
   "metadata": {},
   "outputs": [],
   "source": [
    "def start_voice_assistant():\n",
    "    print(\"_________________________________________________\")\n",
    "    print(\"*** Welcome to the NeuraSpeak Voice Assistant ***\")\n",
    "    print(\"_________________________________________________\")\n",
    "    while True:\n",
    "        print(\"\\nWhat would you like to do?\\n\")\n",
    "        print(\"1. Recognize pronunciation errors and suggest corrections\")\n",
    "        print(\"2. Practice vocabulary\")\n",
    "        print(\"3. Quiz\")\n",
    "        print(\"4. Exit\")\n",
    "        print(\"_________________________________________________\")\n",
    "        choice = input(\"Enter your choice: \")\n",
    "        \n",
    "        if choice == \"1\":\n",
    "            text = recognize_speech()\n",
    "            if text:\n",
    "                # Correct any errors in the transcription using NLP techniques\n",
    "                solution=text_corrector(text)\n",
    "                print(\"corrected text is:\",solution)\n",
    "        elif choice == \"2\":\n",
    "            practice_vocabulary_quiz()\n",
    "        elif choice==\"3\":\n",
    "            generate_vocabulary_quiz(10)\n",
    "        elif choice == \"4\":\n",
    "            print(\"Thank you for using the NeuraSpeak learning voice assistant.\")\n",
    "            break\n",
    "        else:\n",
    "            print(\"Invalid choice. Please try again.\")"
   ]
  },
  {
   "cell_type": "markdown",
   "metadata": {},
   "source": [
    "# Testing the voice assistant:"
   ]
  },
  {
   "cell_type": "code",
   "execution_count": 9,
   "metadata": {},
   "outputs": [
    {
     "name": "stdout",
     "output_type": "stream",
     "text": [
      "_________________________________________________\n",
      "*** Welcome to the NeuraSpeak Voice Assistant ***\n",
      "_________________________________________________\n",
      "\n",
      "What would you like to do?\n",
      "\n",
      "1. Recognize pronunciation errors and suggest corrections\n",
      "2. Practice vocabulary\n",
      "3. Quiz\n",
      "4. Exit\n",
      "_________________________________________________\n",
      "\n",
      "Question 1: What is the definition of the following word?\n",
      "oilpaper\n",
      "1. paper that has been made translucent and waterproof by soaking in oil\n",
      "2. large-clawed lobsters\n",
      "3. a river that rises in North Dakota and flows southward across South Dakota to the Missouri\n",
      "4. water wheel that is used to drive machinery in a mill\n",
      "Sorry, your answer is incorrect. The correct answer is 1.\n",
      "\n",
      "Question 2: What is the definition of the following word?\n",
      "oil-hardened_steel\n",
      "1. an exceptional interest in and admiration for yourself\n",
      "2. the choice of taking what is offered or nothing at all\n",
      "3. steel that is quenched in oil\n",
      "4. spicy tomato-based sauce for tacos\n",
      "Sorry, your answer is incorrect. The correct answer is 3.\n",
      "\n",
      "Question 3: What is the definition of the following word?\n",
      "miler\n",
      "1. oblique passage through the lower abdominal wall; in males it is the passage through which the testes descend into the scrotum and it contains the spermatic cord; in females it transmits the round ligament of the uterus\n",
      "2. a promotion intended to create goodwill for a person or institution\n",
      "3. a runner in a one-mile race\n",
      "4. the entire spectrum of electromagnetic frequencies used for communications; includes frequencies used for radio and radar and television\n",
      "Sorry, your answer is incorrect. The correct answer is 3.\n",
      "\n",
      "Question 4: What is the definition of the following word?\n",
      "nestor\n",
      "1. an influence that works subtly to lighten or modify something\n",
      "2. a genus of Psittacidae\n",
      "3. textual matter that is added onto a publication; usually at the end\n",
      "4. ground beef (not a patty) cooked in a spicy sauce and served on a bun\n",
      "Congratulations! Your answer is correct.\n",
      "\n",
      "\n",
      "Question 5: What is the definition of the following word?\n",
      "surya\n",
      "1. localized death of muscle cell fibers\n",
      "2. an important god of later Hinduism; the sun god or the sun itself worshipped as the source of warmth and light\n",
      "3. a quick look\n",
      "4. a United States coin worth one twentieth of a dollar\n",
      "Congratulations! Your answer is correct.\n",
      "\n",
      "\n",
      "Question 6: What is the definition of the following word?\n",
      "bevy\n",
      "1. a flock of birds (especially when gathered close together on the ground)\n",
      "2. the prehistoric civilization on the islands in the Aegean sea and the surrounding countries\n",
      "3. a soldier who goes ahead of a patrol\n",
      "4. the act of killing from ambush\n",
      "Congratulations! Your answer is correct.\n",
      "\n",
      "\n",
      "Question 7: What is the definition of the following word?\n",
      "fentanyl\n",
      "1. concern with worldly affairs to the neglect of spiritual needs\n",
      "2. minute crustaceans forming food for right whales\n",
      "3. a wind from the east\n",
      "4. trade names of a narcotic analgesic that can be inhaled and that acts on the central nervous system and may become addictive; used as a veterinary anesthetic and with other drugs before, during, and after surgery; also used as a nonlethal gas to incapacitate people in hostage situations; also abused as a recreational drug\n",
      "Congratulations! Your answer is correct.\n",
      "\n",
      "\n",
      "Question 8: What is the definition of the following word?\n",
      "basket\n",
      "1. 100 lwei equal 1 kwanza in Angola\n",
      "2. a musician who plays syncopated jazz music (usually in a dance band)\n",
      "3. a score in basketball made by throwing the ball through the hoop\n",
      "4. oily drupaceous fruit of rabbitwood\n",
      "Sorry, your answer is incorrect. The correct answer is 3.\n",
      "\n",
      "Question 9: What is the definition of the following word?\n",
      "sandhi\n",
      "1. the articulatory process whereby the pronunciation of a word or morpheme changes when it is followed immediately by another (especially in fluent speech)\n",
      "2. someone who attacks in search of booty\n",
      "3. coupling that connects two rotating shafts allowing freedom of movement in all directions\n",
      "4. an Apocryphal book mainly of maxims (resembling Proverbs in that respect)\n",
      "Congratulations! Your answer is correct.\n",
      "\n",
      "\n",
      "Question 10: What is the definition of the following word?\n",
      "parterre\n",
      "1. pump used to lift rather than force a liquid up\n",
      "2. the quality of being wicked\n",
      "3. sturdy European dogtooth with rose to mauve flowers; cultivated in many varieties\n",
      "4. an ornamental flower garden; beds and paths are arranged to form a pattern\n",
      "Congratulations! Your answer is correct.\n",
      "\n",
      "\n",
      "Quiz complete! Your score is: 6/10\n",
      "\n",
      "What would you like to do?\n",
      "\n",
      "1. Recognize pronunciation errors and suggest corrections\n",
      "2. Practice vocabulary\n",
      "3. Quiz\n",
      "4. Exit\n",
      "_________________________________________________\n",
      "Thank you for using the NeuraSpeak learning voice assistant.\n"
     ]
    }
   ],
   "source": [
    "start_voice_assistant()"
   ]
  },
  {
   "cell_type": "code",
   "execution_count": 9,
   "metadata": {},
   "outputs": [
    {
     "name": "stdout",
     "output_type": "stream",
     "text": [
      "_________________________________________________\n",
      "*** Welcome to the NeuraSpeak Voice Assistant ***\n",
      "_________________________________________________\n",
      "\n",
      "What would you like to do?\n",
      "\n",
      "1. Recognize pronunciation errors and suggest corrections\n",
      "2. Practice vocabulary\n",
      "3. Quiz\n",
      "4. Exit\n",
      "_________________________________________________\n",
      "Speak now...\n",
      "You said: hi everybody\n",
      "Offset 0, length 2, Rule ID: UPPERCASE_SENTENCE_START\n",
      "Message: This sentence does not start with an uppercase letter.\n",
      "Suggestion: Hi\n",
      "hi everybody\n",
      "^^\n",
      "corrected text is: Hi everybody\n",
      "\n",
      "What would you like to do?\n",
      "\n",
      "1. Recognize pronunciation errors and suggest corrections\n",
      "2. Practice vocabulary\n",
      "3. Quiz\n",
      "4. Exit\n",
      "_________________________________________________\n",
      "Speak now...\n",
      "You said: she are the special girl\n",
      "Offset 0, length 3, Rule ID: UPPERCASE_SENTENCE_START\n",
      "Message: This sentence does not start with an uppercase letter.\n",
      "Suggestion: She\n",
      "she are the special girl\n",
      "^^^\n",
      "Offset 4, length 3, Rule ID: PERS_PRONOUN_AGREEMENT\n",
      "Message: Use third-person verb with ‘she’.\n",
      "Suggestion: is; was\n",
      "she are the special girl\n",
      "    ^^^\n",
      "corrected text is: She is the special girl\n",
      "\n",
      "What would you like to do?\n",
      "\n",
      "1. Recognize pronunciation errors and suggest corrections\n",
      "2. Practice vocabulary\n",
      "3. Quiz\n",
      "4. Exit\n",
      "_________________________________________________\n",
      "Thank you for using the NeuraSpeak learning voice assistant.\n"
     ]
    }
   ],
   "source": [
    "start_voice_assistant()"
   ]
  }
 ],
 "metadata": {
  "kernelspec": {
   "display_name": "Python 3",
   "language": "python",
   "name": "python3"
  },
  "language_info": {
   "codemirror_mode": {
    "name": "ipython",
    "version": 3
   },
   "file_extension": ".py",
   "mimetype": "text/x-python",
   "name": "python",
   "nbconvert_exporter": "python",
   "pygments_lexer": "ipython3",
   "version": "3.9.12"
  },
  "orig_nbformat": 4
 },
 "nbformat": 4,
 "nbformat_minor": 2
}
